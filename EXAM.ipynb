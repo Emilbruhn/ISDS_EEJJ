{
 "cells": [
  {
   "cell_type": "code",
   "execution_count": 1,
   "metadata": {},
   "outputs": [],
   "source": [
    "# Importing necessary packages\n",
    "from datetime import date, timedelta\n",
    "import os\n",
    "import requests\n",
    "import shutil\n",
    "import pandas as pd\n",
    "import numpy as np\n",
    "import spotipy\n",
    "from spotipy.oauth2 import SpotifyClientCredentials\n",
    "import tqdm"
   ]
  },
  {
   "cell_type": "code",
   "execution_count": 2,
   "metadata": {},
   "outputs": [],
   "source": [
    "# Set start date and end date, with 7 days interval\n",
    "start = date(2020, 1, 3)\n",
    "end = date.today()\n",
    "week = timedelta(days=7)\n",
    "\n",
    "# Creating a list with dates from start to end and 7-days interval\n",
    "dates_string = []\n",
    "mydate = start\n",
    "while mydate < end:\n",
    "    dates_string.append(\"{date.year}-{date.month:02}-{date.day:02}\".format(date=mydate))\n",
    "    mydate += week"
   ]
  },
  {
   "cell_type": "code",
   "execution_count": 3,
   "metadata": {},
   "outputs": [],
   "source": [
    "URL_job_temp = []\n",
    "\n",
    "# Creating a list with URL's for each week top 200 charts\n",
    "for i in dates_string[0:-1]:\n",
    "    URL_job_temp.append(f'https://spotifycharts.com/regional/dk/weekly/{i}--')\n",
    "    \n",
    "URL_job= [\"{}{}\".format(i, j) for i, j in zip(URL_job_temp, dates_string[1:])]"
   ]
  },
  {
   "cell_type": "code",
   "execution_count": 4,
   "metadata": {},
   "outputs": [
    {
     "name": "stderr",
     "output_type": "stream",
     "text": [
      "/opt/anaconda3/lib/python3.7/site-packages/urllib3/connectionpool.py:847: InsecureRequestWarning: Unverified HTTPS request is being made. Adding certificate verification is strongly advised. See: https://urllib3.readthedocs.io/en/latest/advanced-usage.html#ssl-warnings\n",
      "  InsecureRequestWarning)\n"
     ]
    },
    {
     "name": "stdout",
     "output_type": "stream",
     "text": [
      "Success\n"
     ]
    },
    {
     "name": "stderr",
     "output_type": "stream",
     "text": [
      "/opt/anaconda3/lib/python3.7/site-packages/urllib3/connectionpool.py:847: InsecureRequestWarning: Unverified HTTPS request is being made. Adding certificate verification is strongly advised. See: https://urllib3.readthedocs.io/en/latest/advanced-usage.html#ssl-warnings\n",
      "  InsecureRequestWarning)\n"
     ]
    },
    {
     "name": "stdout",
     "output_type": "stream",
     "text": [
      "Success\n"
     ]
    },
    {
     "name": "stderr",
     "output_type": "stream",
     "text": [
      "/opt/anaconda3/lib/python3.7/site-packages/urllib3/connectionpool.py:847: InsecureRequestWarning: Unverified HTTPS request is being made. Adding certificate verification is strongly advised. See: https://urllib3.readthedocs.io/en/latest/advanced-usage.html#ssl-warnings\n",
      "  InsecureRequestWarning)\n"
     ]
    },
    {
     "name": "stdout",
     "output_type": "stream",
     "text": [
      "Success\n"
     ]
    },
    {
     "name": "stderr",
     "output_type": "stream",
     "text": [
      "/opt/anaconda3/lib/python3.7/site-packages/urllib3/connectionpool.py:847: InsecureRequestWarning: Unverified HTTPS request is being made. Adding certificate verification is strongly advised. See: https://urllib3.readthedocs.io/en/latest/advanced-usage.html#ssl-warnings\n",
      "  InsecureRequestWarning)\n"
     ]
    },
    {
     "name": "stdout",
     "output_type": "stream",
     "text": [
      "Success\n"
     ]
    },
    {
     "name": "stderr",
     "output_type": "stream",
     "text": [
      "/opt/anaconda3/lib/python3.7/site-packages/urllib3/connectionpool.py:847: InsecureRequestWarning: Unverified HTTPS request is being made. Adding certificate verification is strongly advised. See: https://urllib3.readthedocs.io/en/latest/advanced-usage.html#ssl-warnings\n",
      "  InsecureRequestWarning)\n"
     ]
    },
    {
     "name": "stdout",
     "output_type": "stream",
     "text": [
      "Success\n"
     ]
    },
    {
     "name": "stderr",
     "output_type": "stream",
     "text": [
      "/opt/anaconda3/lib/python3.7/site-packages/urllib3/connectionpool.py:847: InsecureRequestWarning: Unverified HTTPS request is being made. Adding certificate verification is strongly advised. See: https://urllib3.readthedocs.io/en/latest/advanced-usage.html#ssl-warnings\n",
      "  InsecureRequestWarning)\n"
     ]
    },
    {
     "name": "stdout",
     "output_type": "stream",
     "text": [
      "Success\n"
     ]
    },
    {
     "name": "stderr",
     "output_type": "stream",
     "text": [
      "/opt/anaconda3/lib/python3.7/site-packages/urllib3/connectionpool.py:847: InsecureRequestWarning: Unverified HTTPS request is being made. Adding certificate verification is strongly advised. See: https://urllib3.readthedocs.io/en/latest/advanced-usage.html#ssl-warnings\n",
      "  InsecureRequestWarning)\n"
     ]
    },
    {
     "name": "stdout",
     "output_type": "stream",
     "text": [
      "Success\n"
     ]
    },
    {
     "name": "stderr",
     "output_type": "stream",
     "text": [
      "/opt/anaconda3/lib/python3.7/site-packages/urllib3/connectionpool.py:847: InsecureRequestWarning: Unverified HTTPS request is being made. Adding certificate verification is strongly advised. See: https://urllib3.readthedocs.io/en/latest/advanced-usage.html#ssl-warnings\n",
      "  InsecureRequestWarning)\n"
     ]
    },
    {
     "name": "stdout",
     "output_type": "stream",
     "text": [
      "Success\n"
     ]
    },
    {
     "name": "stderr",
     "output_type": "stream",
     "text": [
      "/opt/anaconda3/lib/python3.7/site-packages/urllib3/connectionpool.py:847: InsecureRequestWarning: Unverified HTTPS request is being made. Adding certificate verification is strongly advised. See: https://urllib3.readthedocs.io/en/latest/advanced-usage.html#ssl-warnings\n",
      "  InsecureRequestWarning)\n"
     ]
    },
    {
     "name": "stdout",
     "output_type": "stream",
     "text": [
      "Success\n"
     ]
    },
    {
     "name": "stderr",
     "output_type": "stream",
     "text": [
      "/opt/anaconda3/lib/python3.7/site-packages/urllib3/connectionpool.py:847: InsecureRequestWarning: Unverified HTTPS request is being made. Adding certificate verification is strongly advised. See: https://urllib3.readthedocs.io/en/latest/advanced-usage.html#ssl-warnings\n",
      "  InsecureRequestWarning)\n"
     ]
    },
    {
     "name": "stdout",
     "output_type": "stream",
     "text": [
      "Success\n"
     ]
    },
    {
     "name": "stderr",
     "output_type": "stream",
     "text": [
      "/opt/anaconda3/lib/python3.7/site-packages/urllib3/connectionpool.py:847: InsecureRequestWarning: Unverified HTTPS request is being made. Adding certificate verification is strongly advised. See: https://urllib3.readthedocs.io/en/latest/advanced-usage.html#ssl-warnings\n",
      "  InsecureRequestWarning)\n"
     ]
    },
    {
     "name": "stdout",
     "output_type": "stream",
     "text": [
      "Success\n"
     ]
    },
    {
     "name": "stderr",
     "output_type": "stream",
     "text": [
      "/opt/anaconda3/lib/python3.7/site-packages/urllib3/connectionpool.py:847: InsecureRequestWarning: Unverified HTTPS request is being made. Adding certificate verification is strongly advised. See: https://urllib3.readthedocs.io/en/latest/advanced-usage.html#ssl-warnings\n",
      "  InsecureRequestWarning)\n"
     ]
    },
    {
     "name": "stdout",
     "output_type": "stream",
     "text": [
      "Success\n"
     ]
    },
    {
     "name": "stderr",
     "output_type": "stream",
     "text": [
      "/opt/anaconda3/lib/python3.7/site-packages/urllib3/connectionpool.py:847: InsecureRequestWarning: Unverified HTTPS request is being made. Adding certificate verification is strongly advised. See: https://urllib3.readthedocs.io/en/latest/advanced-usage.html#ssl-warnings\n",
      "  InsecureRequestWarning)\n"
     ]
    },
    {
     "name": "stdout",
     "output_type": "stream",
     "text": [
      "Success\n"
     ]
    },
    {
     "name": "stderr",
     "output_type": "stream",
     "text": [
      "/opt/anaconda3/lib/python3.7/site-packages/urllib3/connectionpool.py:847: InsecureRequestWarning: Unverified HTTPS request is being made. Adding certificate verification is strongly advised. See: https://urllib3.readthedocs.io/en/latest/advanced-usage.html#ssl-warnings\n",
      "  InsecureRequestWarning)\n"
     ]
    },
    {
     "name": "stdout",
     "output_type": "stream",
     "text": [
      "Success\n"
     ]
    },
    {
     "name": "stderr",
     "output_type": "stream",
     "text": [
      "/opt/anaconda3/lib/python3.7/site-packages/urllib3/connectionpool.py:847: InsecureRequestWarning: Unverified HTTPS request is being made. Adding certificate verification is strongly advised. See: https://urllib3.readthedocs.io/en/latest/advanced-usage.html#ssl-warnings\n",
      "  InsecureRequestWarning)\n"
     ]
    },
    {
     "name": "stdout",
     "output_type": "stream",
     "text": [
      "Success\n"
     ]
    },
    {
     "name": "stderr",
     "output_type": "stream",
     "text": [
      "/opt/anaconda3/lib/python3.7/site-packages/urllib3/connectionpool.py:847: InsecureRequestWarning: Unverified HTTPS request is being made. Adding certificate verification is strongly advised. See: https://urllib3.readthedocs.io/en/latest/advanced-usage.html#ssl-warnings\n",
      "  InsecureRequestWarning)\n"
     ]
    },
    {
     "name": "stdout",
     "output_type": "stream",
     "text": [
      "Success\n"
     ]
    },
    {
     "name": "stderr",
     "output_type": "stream",
     "text": [
      "/opt/anaconda3/lib/python3.7/site-packages/urllib3/connectionpool.py:847: InsecureRequestWarning: Unverified HTTPS request is being made. Adding certificate verification is strongly advised. See: https://urllib3.readthedocs.io/en/latest/advanced-usage.html#ssl-warnings\n",
      "  InsecureRequestWarning)\n"
     ]
    },
    {
     "name": "stdout",
     "output_type": "stream",
     "text": [
      "Success\n"
     ]
    },
    {
     "name": "stderr",
     "output_type": "stream",
     "text": [
      "/opt/anaconda3/lib/python3.7/site-packages/urllib3/connectionpool.py:847: InsecureRequestWarning: Unverified HTTPS request is being made. Adding certificate verification is strongly advised. See: https://urllib3.readthedocs.io/en/latest/advanced-usage.html#ssl-warnings\n",
      "  InsecureRequestWarning)\n"
     ]
    },
    {
     "name": "stdout",
     "output_type": "stream",
     "text": [
      "Success\n"
     ]
    },
    {
     "name": "stderr",
     "output_type": "stream",
     "text": [
      "/opt/anaconda3/lib/python3.7/site-packages/urllib3/connectionpool.py:847: InsecureRequestWarning: Unverified HTTPS request is being made. Adding certificate verification is strongly advised. See: https://urllib3.readthedocs.io/en/latest/advanced-usage.html#ssl-warnings\n",
      "  InsecureRequestWarning)\n"
     ]
    },
    {
     "name": "stdout",
     "output_type": "stream",
     "text": [
      "Success\n"
     ]
    },
    {
     "name": "stderr",
     "output_type": "stream",
     "text": [
      "/opt/anaconda3/lib/python3.7/site-packages/urllib3/connectionpool.py:847: InsecureRequestWarning: Unverified HTTPS request is being made. Adding certificate verification is strongly advised. See: https://urllib3.readthedocs.io/en/latest/advanced-usage.html#ssl-warnings\n",
      "  InsecureRequestWarning)\n"
     ]
    },
    {
     "name": "stdout",
     "output_type": "stream",
     "text": [
      "Success\n"
     ]
    },
    {
     "name": "stderr",
     "output_type": "stream",
     "text": [
      "/opt/anaconda3/lib/python3.7/site-packages/urllib3/connectionpool.py:847: InsecureRequestWarning: Unverified HTTPS request is being made. Adding certificate verification is strongly advised. See: https://urllib3.readthedocs.io/en/latest/advanced-usage.html#ssl-warnings\n",
      "  InsecureRequestWarning)\n"
     ]
    },
    {
     "name": "stdout",
     "output_type": "stream",
     "text": [
      "Success\n"
     ]
    },
    {
     "name": "stderr",
     "output_type": "stream",
     "text": [
      "/opt/anaconda3/lib/python3.7/site-packages/urllib3/connectionpool.py:847: InsecureRequestWarning: Unverified HTTPS request is being made. Adding certificate verification is strongly advised. See: https://urllib3.readthedocs.io/en/latest/advanced-usage.html#ssl-warnings\n",
      "  InsecureRequestWarning)\n"
     ]
    },
    {
     "name": "stdout",
     "output_type": "stream",
     "text": [
      "Success\n"
     ]
    },
    {
     "name": "stderr",
     "output_type": "stream",
     "text": [
      "/opt/anaconda3/lib/python3.7/site-packages/urllib3/connectionpool.py:847: InsecureRequestWarning: Unverified HTTPS request is being made. Adding certificate verification is strongly advised. See: https://urllib3.readthedocs.io/en/latest/advanced-usage.html#ssl-warnings\n",
      "  InsecureRequestWarning)\n"
     ]
    },
    {
     "name": "stdout",
     "output_type": "stream",
     "text": [
      "Success\n"
     ]
    },
    {
     "name": "stderr",
     "output_type": "stream",
     "text": [
      "/opt/anaconda3/lib/python3.7/site-packages/urllib3/connectionpool.py:847: InsecureRequestWarning: Unverified HTTPS request is being made. Adding certificate verification is strongly advised. See: https://urllib3.readthedocs.io/en/latest/advanced-usage.html#ssl-warnings\n",
      "  InsecureRequestWarning)\n"
     ]
    },
    {
     "name": "stdout",
     "output_type": "stream",
     "text": [
      "Success\n"
     ]
    },
    {
     "name": "stderr",
     "output_type": "stream",
     "text": [
      "/opt/anaconda3/lib/python3.7/site-packages/urllib3/connectionpool.py:847: InsecureRequestWarning: Unverified HTTPS request is being made. Adding certificate verification is strongly advised. See: https://urllib3.readthedocs.io/en/latest/advanced-usage.html#ssl-warnings\n",
      "  InsecureRequestWarning)\n"
     ]
    },
    {
     "name": "stdout",
     "output_type": "stream",
     "text": [
      "Success\n"
     ]
    },
    {
     "name": "stderr",
     "output_type": "stream",
     "text": [
      "/opt/anaconda3/lib/python3.7/site-packages/urllib3/connectionpool.py:847: InsecureRequestWarning: Unverified HTTPS request is being made. Adding certificate verification is strongly advised. See: https://urllib3.readthedocs.io/en/latest/advanced-usage.html#ssl-warnings\n",
      "  InsecureRequestWarning)\n"
     ]
    },
    {
     "name": "stdout",
     "output_type": "stream",
     "text": [
      "Success\n"
     ]
    },
    {
     "name": "stderr",
     "output_type": "stream",
     "text": [
      "/opt/anaconda3/lib/python3.7/site-packages/urllib3/connectionpool.py:847: InsecureRequestWarning: Unverified HTTPS request is being made. Adding certificate verification is strongly advised. See: https://urllib3.readthedocs.io/en/latest/advanced-usage.html#ssl-warnings\n",
      "  InsecureRequestWarning)\n"
     ]
    },
    {
     "name": "stdout",
     "output_type": "stream",
     "text": [
      "Success\n"
     ]
    },
    {
     "name": "stderr",
     "output_type": "stream",
     "text": [
      "/opt/anaconda3/lib/python3.7/site-packages/urllib3/connectionpool.py:847: InsecureRequestWarning: Unverified HTTPS request is being made. Adding certificate verification is strongly advised. See: https://urllib3.readthedocs.io/en/latest/advanced-usage.html#ssl-warnings\n",
      "  InsecureRequestWarning)\n"
     ]
    },
    {
     "name": "stdout",
     "output_type": "stream",
     "text": [
      "Success\n"
     ]
    },
    {
     "name": "stderr",
     "output_type": "stream",
     "text": [
      "/opt/anaconda3/lib/python3.7/site-packages/urllib3/connectionpool.py:847: InsecureRequestWarning: Unverified HTTPS request is being made. Adding certificate verification is strongly advised. See: https://urllib3.readthedocs.io/en/latest/advanced-usage.html#ssl-warnings\n",
      "  InsecureRequestWarning)\n"
     ]
    },
    {
     "name": "stdout",
     "output_type": "stream",
     "text": [
      "Success\n"
     ]
    },
    {
     "name": "stderr",
     "output_type": "stream",
     "text": [
      "/opt/anaconda3/lib/python3.7/site-packages/urllib3/connectionpool.py:847: InsecureRequestWarning: Unverified HTTPS request is being made. Adding certificate verification is strongly advised. See: https://urllib3.readthedocs.io/en/latest/advanced-usage.html#ssl-warnings\n",
      "  InsecureRequestWarning)\n"
     ]
    },
    {
     "name": "stdout",
     "output_type": "stream",
     "text": [
      "Success\n"
     ]
    },
    {
     "name": "stderr",
     "output_type": "stream",
     "text": [
      "/opt/anaconda3/lib/python3.7/site-packages/urllib3/connectionpool.py:847: InsecureRequestWarning: Unverified HTTPS request is being made. Adding certificate verification is strongly advised. See: https://urllib3.readthedocs.io/en/latest/advanced-usage.html#ssl-warnings\n",
      "  InsecureRequestWarning)\n"
     ]
    },
    {
     "name": "stdout",
     "output_type": "stream",
     "text": [
      "Success\n"
     ]
    },
    {
     "name": "stderr",
     "output_type": "stream",
     "text": [
      "/opt/anaconda3/lib/python3.7/site-packages/urllib3/connectionpool.py:847: InsecureRequestWarning: Unverified HTTPS request is being made. Adding certificate verification is strongly advised. See: https://urllib3.readthedocs.io/en/latest/advanced-usage.html#ssl-warnings\n",
      "  InsecureRequestWarning)\n"
     ]
    },
    {
     "name": "stdout",
     "output_type": "stream",
     "text": [
      "Success\n"
     ]
    }
   ],
   "source": [
    "# Finds current directory and makes a new folder 'Spotify_files' and changes directory to 'Spotify_files'\n",
    "path = os.getcwd()\n",
    "os.mkdir(f'{path}/Spotify_files')\n",
    "os.chdir(f'{path}/Spotify_files')\n",
    "\n",
    "# Downloads every weeks top 200 charts as csv file and place them in the folder 'Spotify_files'.\n",
    "for i in URL_job:\n",
    "    url = f'{i}/download'\n",
    "    r = requests.get(url, verify=False,stream=True)\n",
    "    if r.status_code!=200:\n",
    "        print( \"Failure\")\n",
    "        exit()\n",
    "    else:\n",
    "        r.raw.decode_content = True\n",
    "        with open(f'{i[45:67]}.csv', 'wb',) as f:\n",
    "            shutil.copyfileobj(r.raw, f)\n",
    "        print(\"Success\")\n",
    "\n",
    "# Changes directory back to original path\n",
    "os.chdir(path)"
   ]
  },
  {
   "cell_type": "code",
   "execution_count": 5,
   "metadata": {},
   "outputs": [],
   "source": [
    "dataframes = []\n",
    "# Makes a list of the downloaded csv files\n",
    "for i in URL_job:\n",
    "    df = pd.read_csv(f'{path}/Spotify_files/{i[45:67]}.csv', header=1)\n",
    "    df['date'] = i[45:67]\n",
    "    dataframes.append(df)\n",
    "\n",
    "# Concatenates all the csv files into a dataframe\n",
    "combined_csv = pd.concat(dataframes).reset_index(drop=True)\n",
    "\n",
    "# Slices dates such that they only consist of the first date of the the week\n",
    "combined_csv['date'] = combined_csv['date'].str.slice(0,10)\n",
    "\n",
    "# Changes format to datetime\n",
    "combined_csv['date'] = pd.to_datetime(combined_csv['date'])\n",
    "\n",
    "# Makes a new variable 'uri', slightly different from URL\n",
    "combined_csv['uri'] = 'spotify:track:' + combined_csv['URL'].str.slice(31,53)"
   ]
  },
  {
   "cell_type": "code",
   "execution_count": 6,
   "metadata": {},
   "outputs": [
    {
     "data": {
      "text/html": [
       "<div>\n",
       "<style scoped>\n",
       "    .dataframe tbody tr th:only-of-type {\n",
       "        vertical-align: middle;\n",
       "    }\n",
       "\n",
       "    .dataframe tbody tr th {\n",
       "        vertical-align: top;\n",
       "    }\n",
       "\n",
       "    .dataframe thead th {\n",
       "        text-align: right;\n",
       "    }\n",
       "</style>\n",
       "<table border=\"1\" class=\"dataframe\">\n",
       "  <thead>\n",
       "    <tr style=\"text-align: right;\">\n",
       "      <th></th>\n",
       "      <th>Position</th>\n",
       "      <th>Track Name</th>\n",
       "      <th>Artist</th>\n",
       "      <th>Streams</th>\n",
       "      <th>URL</th>\n",
       "      <th>date</th>\n",
       "      <th>uri</th>\n",
       "    </tr>\n",
       "  </thead>\n",
       "  <tbody>\n",
       "    <tr>\n",
       "      <td>0</td>\n",
       "      <td>1</td>\n",
       "      <td>PUB G (feat. Branco &amp; Larry 44)</td>\n",
       "      <td>LOLO</td>\n",
       "      <td>613471</td>\n",
       "      <td>https://open.spotify.com/track/0alp0O9d7KTtAF1...</td>\n",
       "      <td>2020-01-03</td>\n",
       "      <td>spotify:track:0alp0O9d7KTtAF1QnBqqiv</td>\n",
       "    </tr>\n",
       "    <tr>\n",
       "      <td>1</td>\n",
       "      <td>2</td>\n",
       "      <td>Yummy</td>\n",
       "      <td>Justin Bieber</td>\n",
       "      <td>498327</td>\n",
       "      <td>https://open.spotify.com/track/41L3O37CECZt3N7...</td>\n",
       "      <td>2020-01-03</td>\n",
       "      <td>spotify:track:41L3O37CECZt3N7ziG2z7l</td>\n",
       "    </tr>\n",
       "    <tr>\n",
       "      <td>2</td>\n",
       "      <td>3</td>\n",
       "      <td>Blinding Lights</td>\n",
       "      <td>The Weeknd</td>\n",
       "      <td>441317</td>\n",
       "      <td>https://open.spotify.com/track/0sf12qNH5qcw8qp...</td>\n",
       "      <td>2020-01-03</td>\n",
       "      <td>spotify:track:0sf12qNH5qcw8qpgymFOqD</td>\n",
       "    </tr>\n",
       "    <tr>\n",
       "      <td>3</td>\n",
       "      <td>4</td>\n",
       "      <td>Kærlighed (feat. Gilli &amp; Kesi)</td>\n",
       "      <td>ATYPISK</td>\n",
       "      <td>428895</td>\n",
       "      <td>https://open.spotify.com/track/2xeiAqqHWYXQMWk...</td>\n",
       "      <td>2020-01-03</td>\n",
       "      <td>spotify:track:2xeiAqqHWYXQMWk6s2aQdw</td>\n",
       "    </tr>\n",
       "    <tr>\n",
       "      <td>4</td>\n",
       "      <td>5</td>\n",
       "      <td>Dance Monkey</td>\n",
       "      <td>Tones And I</td>\n",
       "      <td>401189</td>\n",
       "      <td>https://open.spotify.com/track/1rgnBhdG2JDFTbY...</td>\n",
       "      <td>2020-01-03</td>\n",
       "      <td>spotify:track:1rgnBhdG2JDFTbYkYRZAku</td>\n",
       "    </tr>\n",
       "    <tr>\n",
       "      <td>...</td>\n",
       "      <td>...</td>\n",
       "      <td>...</td>\n",
       "      <td>...</td>\n",
       "      <td>...</td>\n",
       "      <td>...</td>\n",
       "      <td>...</td>\n",
       "      <td>...</td>\n",
       "    </tr>\n",
       "    <tr>\n",
       "      <td>6395</td>\n",
       "      <td>196</td>\n",
       "      <td>Thank You [Not So Bad]</td>\n",
       "      <td>VIZE</td>\n",
       "      <td>59411</td>\n",
       "      <td>https://open.spotify.com/track/4AqN8IdKCfItCSb...</td>\n",
       "      <td>2020-08-07</td>\n",
       "      <td>spotify:track:4AqN8IdKCfItCSbuaFch81</td>\n",
       "    </tr>\n",
       "    <tr>\n",
       "      <td>6396</td>\n",
       "      <td>197</td>\n",
       "      <td>Okay</td>\n",
       "      <td>Tessa</td>\n",
       "      <td>59104</td>\n",
       "      <td>https://open.spotify.com/track/4HtQ1OKauyaDx1j...</td>\n",
       "      <td>2020-08-07</td>\n",
       "      <td>spotify:track:4HtQ1OKauyaDx1jIos6Zmv</td>\n",
       "    </tr>\n",
       "    <tr>\n",
       "      <td>6397</td>\n",
       "      <td>198</td>\n",
       "      <td>Plastic (feat. Benjamin Hav)</td>\n",
       "      <td>Pind</td>\n",
       "      <td>59099</td>\n",
       "      <td>https://open.spotify.com/track/758P0zO2goHiN3N...</td>\n",
       "      <td>2020-08-07</td>\n",
       "      <td>spotify:track:758P0zO2goHiN3NA5OW1Qe</td>\n",
       "    </tr>\n",
       "    <tr>\n",
       "      <td>6398</td>\n",
       "      <td>199</td>\n",
       "      <td>Piece Of Your Heart</td>\n",
       "      <td>MEDUZA</td>\n",
       "      <td>58919</td>\n",
       "      <td>https://open.spotify.com/track/1DFD5Fotzgn6yYX...</td>\n",
       "      <td>2020-08-07</td>\n",
       "      <td>spotify:track:1DFD5Fotzgn6yYXkYsKiGs</td>\n",
       "    </tr>\n",
       "    <tr>\n",
       "      <td>6399</td>\n",
       "      <td>200</td>\n",
       "      <td>Fuck Dig (Centrum) [feat. LUNA]</td>\n",
       "      <td>Skinz</td>\n",
       "      <td>58883</td>\n",
       "      <td>https://open.spotify.com/track/78fL0aQqgnrqVtO...</td>\n",
       "      <td>2020-08-07</td>\n",
       "      <td>spotify:track:78fL0aQqgnrqVtOyZCIQpX</td>\n",
       "    </tr>\n",
       "  </tbody>\n",
       "</table>\n",
       "<p>6400 rows × 7 columns</p>\n",
       "</div>"
      ],
      "text/plain": [
       "      Position                       Track Name         Artist  Streams  \\\n",
       "0            1  PUB G (feat. Branco & Larry 44)           LOLO   613471   \n",
       "1            2                            Yummy  Justin Bieber   498327   \n",
       "2            3                  Blinding Lights     The Weeknd   441317   \n",
       "3            4   Kærlighed (feat. Gilli & Kesi)        ATYPISK   428895   \n",
       "4            5                     Dance Monkey    Tones And I   401189   \n",
       "...        ...                              ...            ...      ...   \n",
       "6395       196           Thank You [Not So Bad]           VIZE    59411   \n",
       "6396       197                             Okay          Tessa    59104   \n",
       "6397       198     Plastic (feat. Benjamin Hav)           Pind    59099   \n",
       "6398       199              Piece Of Your Heart         MEDUZA    58919   \n",
       "6399       200  Fuck Dig (Centrum) [feat. LUNA]          Skinz    58883   \n",
       "\n",
       "                                                    URL       date  \\\n",
       "0     https://open.spotify.com/track/0alp0O9d7KTtAF1... 2020-01-03   \n",
       "1     https://open.spotify.com/track/41L3O37CECZt3N7... 2020-01-03   \n",
       "2     https://open.spotify.com/track/0sf12qNH5qcw8qp... 2020-01-03   \n",
       "3     https://open.spotify.com/track/2xeiAqqHWYXQMWk... 2020-01-03   \n",
       "4     https://open.spotify.com/track/1rgnBhdG2JDFTbY... 2020-01-03   \n",
       "...                                                 ...        ...   \n",
       "6395  https://open.spotify.com/track/4AqN8IdKCfItCSb... 2020-08-07   \n",
       "6396  https://open.spotify.com/track/4HtQ1OKauyaDx1j... 2020-08-07   \n",
       "6397  https://open.spotify.com/track/758P0zO2goHiN3N... 2020-08-07   \n",
       "6398  https://open.spotify.com/track/1DFD5Fotzgn6yYX... 2020-08-07   \n",
       "6399  https://open.spotify.com/track/78fL0aQqgnrqVtO... 2020-08-07   \n",
       "\n",
       "                                       uri  \n",
       "0     spotify:track:0alp0O9d7KTtAF1QnBqqiv  \n",
       "1     spotify:track:41L3O37CECZt3N7ziG2z7l  \n",
       "2     spotify:track:0sf12qNH5qcw8qpgymFOqD  \n",
       "3     spotify:track:2xeiAqqHWYXQMWk6s2aQdw  \n",
       "4     spotify:track:1rgnBhdG2JDFTbYkYRZAku  \n",
       "...                                    ...  \n",
       "6395  spotify:track:4AqN8IdKCfItCSbuaFch81  \n",
       "6396  spotify:track:4HtQ1OKauyaDx1jIos6Zmv  \n",
       "6397  spotify:track:758P0zO2goHiN3NA5OW1Qe  \n",
       "6398  spotify:track:1DFD5Fotzgn6yYXkYsKiGs  \n",
       "6399  spotify:track:78fL0aQqgnrqVtOyZCIQpX  \n",
       "\n",
       "[6400 rows x 7 columns]"
      ]
     },
     "execution_count": 6,
     "metadata": {},
     "output_type": "execute_result"
    }
   ],
   "source": [
    "combined_csv"
   ]
  },
  {
   "cell_type": "code",
   "execution_count": 7,
   "metadata": {},
   "outputs": [],
   "source": [
    "# Passes client id and client secret to spotipy\n",
    "cid = 'e3da1cac4264428cbe476f7d055db765'\n",
    "secret = 'b87a66e1c3a948d295549023b963f2cb'\n",
    "client_credentials_manager = SpotifyClientCredentials(client_id=cid, client_secret=secret)\n",
    "sp = spotipy.Spotify(client_credentials_manager = client_credentials_manager)"
   ]
  },
  {
   "cell_type": "code",
   "execution_count": null,
   "metadata": {},
   "outputs": [
    {
     "name": "stderr",
     "output_type": "stream",
     "text": [
      " 34%|███▍      | 2198/6400 [07:22<1:37:50,  1.40s/it]"
     ]
    }
   ],
   "source": [
    "def get_track_features(id):\n",
    "    '''Takes an uri, URL or track id and returns a list of lists with some metadata\n",
    "    and its musical features''' \n",
    "    meta = sp.track(id)\n",
    "    features = sp.audio_features(id)\n",
    "    \n",
    "    # Metadata\n",
    "    name = meta['name']\n",
    "    release_date = meta['album']['release_date']\n",
    "    length = meta['duration_ms']\n",
    "    \n",
    "    # Musical features\n",
    "    acousticness = features[0]['acousticness']\n",
    "    danceability = features[0]['danceability']\n",
    "    energy = features[0]['energy']\n",
    "    instrumentalness = features[0]['instrumentalness']\n",
    "    liveness = features[0]['liveness']\n",
    "    loudness = features[0]['loudness']\n",
    "    speechiness = features[0]['speechiness']\n",
    "    valence = features[0]['valence']\n",
    "    tempo = features[0]['tempo']\n",
    "    time_signature = features[0]['time_signature']\n",
    "    URL = features[0]['uri']\n",
    "    track = [name, release_date ,length, danceability, acousticness, energy, instrumentalness, liveness, loudness, speechiness, valence, tempo, time_signature, URL]\n",
    "    return track\n",
    "\n",
    "# Running get_track_features function on all tracks\n",
    "tracks_features = []\n",
    "for i in tqdm.tqdm(combined_csv['URL']):\n",
    "    tracks_features.append(get_track_features(i))"
   ]
  },
  {
   "cell_type": "code",
   "execution_count": null,
   "metadata": {},
   "outputs": [],
   "source": [
    "# Converts list of all track features to a dataframe\n",
    "df = pd.DataFrame(tracks_features, columns = ['name','release_date', 'length', 'danceability', 'acousticness', 'energy', 'instrumentalness', 'liveness', 'loudness', 'speechiness', 'valence','tempo', 'time_signature','uri'])\n",
    "\n",
    "# Merges dataframe with weekly top 200 charts with dataframe containing all track features. \n",
    "# Merge is made on index since the order of the dataframes are similar\n",
    "combined_csv_joined = pd.merge(combined_csv, df, left_index=True, right_index=True)\\\n",
    "                        .drop('name', axis=1)\\\n",
    "                        .to_csv('songs_and_audio_features.csv')\n"
   ]
  },
  {
   "cell_type": "code",
   "execution_count": null,
   "metadata": {},
   "outputs": [],
   "source": []
  },
  {
   "cell_type": "code",
   "execution_count": null,
   "metadata": {},
   "outputs": [],
   "source": []
  },
  {
   "cell_type": "code",
   "execution_count": null,
   "metadata": {},
   "outputs": [],
   "source": []
  },
  {
   "cell_type": "code",
   "execution_count": null,
   "metadata": {},
   "outputs": [],
   "source": []
  },
  {
   "cell_type": "code",
   "execution_count": null,
   "metadata": {},
   "outputs": [],
   "source": []
  },
  {
   "cell_type": "code",
   "execution_count": null,
   "metadata": {},
   "outputs": [],
   "source": []
  },
  {
   "cell_type": "code",
   "execution_count": null,
   "metadata": {},
   "outputs": [],
   "source": []
  },
  {
   "cell_type": "code",
   "execution_count": null,
   "metadata": {},
   "outputs": [],
   "source": [
    "'''# Definining functions \n",
    "def get_artist(name):\n",
    "    # Returns the artist object with respective data\n",
    "    results = sp.search(q='artist:' + name, type='artist')\n",
    "    items = results['artists']['items']\n",
    "    if len(items) > 0:\n",
    "        return items[0]\n",
    "    else:\n",
    "        return None\n",
    "def get_artist_albums_ids(artist):\n",
    "    # Given an artist object, returns a list of with each of the album's ids\n",
    "    albums_ids = []\n",
    "    for i in range (len(sp.artist_albums(artist['id'], album_type='album',limit=50)['items'])):\n",
    "        albums_ids.append(sp.artist_albums(artist['id'], album_type='album',limit=50)['items'][i]['id'])\n",
    "    return albums_ids\n",
    "def filter_albums_ids(albums_ids):\n",
    "    # Spotify has many versions of the same album. \n",
    "    # This function filters a list of albums ids and returns the most popular ones\n",
    "    album_names = []    \n",
    "    for album_id in albums_ids:\n",
    "        album_names.append(sp.album(album_id)['name'])       \n",
    "    album_pop = []    \n",
    "    for album_id in albums_ids:\n",
    "        album_pop.append(sp.album(album_id)['popularity'])    \n",
    "    d = {'id': albums_ids,'name': album_names, 'popularity': album_pop}\n",
    "    df = pd.DataFrame(data=d)    \n",
    "    df = df.sort_values('popularity', ascending=False).drop_duplicates('name').sort_index()\n",
    "    df = df.reset_index(drop = True)   \n",
    "    return (df['id'])\n",
    "def get_artist_albums_tracks_ids(albums_ids):\n",
    "    # Given a list of albums ids, returns a list of ids of the albums' tracks\n",
    "    tracks_ids = []\n",
    "    for album_id in albums_ids:\n",
    "        for i in range(len(sp.album_tracks(album_id)['items'])):\n",
    "            tracks_ids.append(sp.album_tracks(album_id)['items'][i]['id'])\n",
    "    return(tracks_ids)\n",
    "def get_track_features(id):\n",
    "    # Given a track id, returns a nested list with its musical features as described in the introduction\n",
    "    meta = sp.track(id)\n",
    "    features = sp.audio_features(id)\n",
    "    # Meta\n",
    "    name = meta['name']\n",
    "    album = meta['album']['name']\n",
    "    artist = meta['album']['artists'][0]['name']\n",
    "    release_date = meta['album']['release_date']\n",
    "    length = meta['duration_ms']\n",
    "    popularity = meta['popularity']\n",
    "    # Features\n",
    "    acousticness = features[0]['acousticness']\n",
    "    danceability = features[0]['danceability']\n",
    "    energy = features[0]['energy']\n",
    "    instrumentalness = features[0]['instrumentalness']\n",
    "    liveness = features[0]['liveness']\n",
    "    loudness = features[0]['loudness']\n",
    "    speechiness = features[0]['speechiness']\n",
    "    valence = features[0]['valence']\n",
    "    tempo = features[0]['tempo']\n",
    "    time_signature = features[0]['time_signature']\n",
    "    track = [name, album, artist, release_date, length, popularity, danceability, acousticness, energy, instrumentalness, liveness, loudness, speechiness, valence, tempo, time_signature]\n",
    "    return track\n",
    "def get_tracks_features(tracks_ids):\n",
    "    # given a list of ids of tracks, returns a list with their features\n",
    "    tracks = []\n",
    "    for i in range(0, len(tracks_ids)):\n",
    "        track = get_track_features(tracks_ids[i])\n",
    "        tracks.append(track)\n",
    "    return(tracks)\n",
    "def tracks_features_to_csv(tracks_features, csv_title):\n",
    "    # transforms the list of track features into a csv file\n",
    "    df = pd.DataFrame(tracks_features, columns = ['name', 'album', 'artist', 'release_date', 'length', 'popularity', 'danceability', 'acousticness', 'energy', 'instrumentalness', 'liveness', 'loudness', 'speechiness', 'valence','tempo', 'time_signature'])\n",
    "    df.to_csv(csv_title + \".csv\", sep = ',')\n",
    "def get_discography(artist_name):\n",
    "    # a function that returns the discography of an artist given its name (string)\n",
    "    # do not use, it is quite unreliable since the discography is not filtered\n",
    "    tracks_features = get_tracks_features(get_artist_albums_tracks_ids(filter_albums_ids(get_artist_albums_ids(get_artist(artist_name)))))\n",
    "    return tracks_features_to_csv(tracks_features, artist_name)\n",
    "def get_playlist_track_ids(user, playlist_id):\n",
    "    # initially I wanted to use a playlist to get an artist's discography\n",
    "    # however, finding a good playlist proved to be quite difficult\n",
    "    ids = []\n",
    "    playlist = sp.user_playlist(user, playlist_id)\n",
    "    for item in playlist['tracks']['items']:\n",
    "        track = item['track']\n",
    "        ids.append(track['id'])\n",
    "    return ids'''"
   ]
  },
  {
   "cell_type": "code",
   "execution_count": null,
   "metadata": {},
   "outputs": [],
   "source": []
  },
  {
   "cell_type": "code",
   "execution_count": null,
   "metadata": {},
   "outputs": [],
   "source": []
  }
 ],
 "metadata": {
  "kernelspec": {
   "display_name": "Python 3",
   "language": "python",
   "name": "python3"
  },
  "language_info": {
   "codemirror_mode": {
    "name": "ipython",
    "version": 3
   },
   "file_extension": ".py",
   "mimetype": "text/x-python",
   "name": "python",
   "nbconvert_exporter": "python",
   "pygments_lexer": "ipython3",
   "version": "3.7.4"
  }
 },
 "nbformat": 4,
 "nbformat_minor": 4
}
